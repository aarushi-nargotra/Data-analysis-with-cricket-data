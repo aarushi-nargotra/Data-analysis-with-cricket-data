{
  "nbformat": 4,
  "nbformat_minor": 0,
  "metadata": {
    "colab": {
      "provenance": []
    },
    "kernelspec": {
      "name": "python3",
      "display_name": "Python 3"
    },
    "language_info": {
      "name": "python"
    }
  },
  "cells": [
    {
      "cell_type": "markdown",
      "source": [
        "**KNOWING YOUR DATA**\n",
        "\n",
        "\n"
      ],
      "metadata": {
        "id": "NrsuuWX0a7QC"
      }
    },
    {
      "cell_type": "code",
      "execution_count": 16,
      "metadata": {
        "id": "hyFtpYnc34Ow",
        "colab": {
          "base_uri": "https://localhost:8080/"
        },
        "outputId": "87c8ab1d-a538-4f45-8692-4ce0a1807612"
      },
      "outputs": [
        {
          "output_type": "stream",
          "name": "stdout",
          "text": [
            "<class 'pandas.core.frame.DataFrame'>\n",
            "RangeIndex: 236 entries, 0 to 235\n",
            "Data columns (total 21 columns):\n",
            " #   Column                     Non-Null Count  Dtype  \n",
            "---  ------                     --------------  -----  \n",
            " 0   batter                     236 non-null    object \n",
            " 1   bowler                     236 non-null    object \n",
            " 2   non_striker                236 non-null    object \n",
            " 3   runs_batter                236 non-null    int64  \n",
            " 4   runs_extras                236 non-null    int64  \n",
            " 5   runs_total                 236 non-null    int64  \n",
            " 6   wickets_0_player_out       11 non-null     object \n",
            " 7   wickets_0_kind             11 non-null     object \n",
            " 8   team                       236 non-null    object \n",
            " 9   over                       236 non-null    int64  \n",
            " 10  extras_wides               5 non-null      float64\n",
            " 11  wickets_0_fielders_0_name  8 non-null      object \n",
            " 12  review_by                  1 non-null      object \n",
            " 13  review_umpire              1 non-null      object \n",
            " 14  review_batter              1 non-null      object \n",
            " 15  review_decision            1 non-null      object \n",
            " 16  review_type                1 non-null      object \n",
            " 17  extras_legbyes             2 non-null      float64\n",
            " 18  wickets_0_fielders_1_name  1 non-null      object \n",
            " 19  extras_noballs             1 non-null      float64\n",
            " 20  extras_penalty             1 non-null      float64\n",
            "dtypes: float64(4), int64(4), object(13)\n",
            "memory usage: 38.8+ KB\n",
            "None\n",
            "       runs_batter  runs_extras  runs_total        over  extras_wides  \\\n",
            "count   236.000000   236.000000  236.000000  236.000000      5.000000   \n",
            "mean      0.864407     0.072034    0.936441    9.080508      1.800000   \n",
            "std       1.398572     0.487178    1.452872    5.575581      1.788854   \n",
            "min       0.000000     0.000000    0.000000    0.000000      1.000000   \n",
            "25%       0.000000     0.000000    0.000000    4.000000      1.000000   \n",
            "50%       0.000000     0.000000    1.000000    9.000000      1.000000   \n",
            "75%       1.000000     0.000000    1.000000   14.000000      1.000000   \n",
            "max       6.000000     5.000000    6.000000   19.000000      5.000000   \n",
            "\n",
            "       extras_legbyes  extras_noballs  extras_penalty  \n",
            "count             2.0             1.0             1.0  \n",
            "mean              1.0             1.0             5.0  \n",
            "std               0.0             NaN             NaN  \n",
            "min               1.0             1.0             5.0  \n",
            "25%               1.0             1.0             5.0  \n",
            "50%               1.0             1.0             5.0  \n",
            "75%               1.0             1.0             5.0  \n",
            "max               1.0             1.0             5.0  \n"
          ]
        }
      ],
      "source": [
        "import pandas as pd\n",
        "import matplotlib.pyplot as plt\n",
        "\n",
        "# Load the data\n",
        "df = pd.read_csv('india-usa_innings_data.csv')\n",
        "\n",
        "# Display basic information\n",
        "print(df.info())\n",
        "\n",
        "# Show summary statistics\n",
        "print(df.describe())"
      ]
    },
    {
      "cell_type": "markdown",
      "source": [
        "# DATA MANIPULATION"
      ],
      "metadata": {
        "id": "VwzRiTocbUbg"
      }
    },
    {
      "cell_type": "code",
      "source": [
        "# Standardize categorical data (example: names to lowercase)\n",
        "df['batter'] = df['batter'].str.lower()\n",
        "df['bowler'] = df['bowler'].str.lower()\n",
        "df['non_striker'] = df['non_striker'].str.lower()\n",
        "\n",
        "# astype() method returns a new DataFrame where the data types has been changed to the specified type\n"
      ],
      "metadata": {
        "id": "6Vasr0CQ44do"
      },
      "execution_count": 17,
      "outputs": []
    },
    {
      "cell_type": "code",
      "source": [
        "df.fillna(value={'runs_extras': 0, 'extras_wides': 0, 'extras_byes': 0, 'extras_noballs': 0,\n",
        "                 'extras_legbyes': 0, 'extras_penalty': 0}, inplace=True)"
      ],
      "metadata": {
        "id": "S3C8-tHw5hvt"
      },
      "execution_count": 18,
      "outputs": []
    },
    {
      "cell_type": "code",
      "source": [
        "df.isnull().sum()"
      ],
      "metadata": {
        "colab": {
          "base_uri": "https://localhost:8080/"
        },
        "id": "cPPzRxUQ6G69",
        "outputId": "0a0363e3-80ed-42c6-a32a-307c553be3a0"
      },
      "execution_count": 19,
      "outputs": [
        {
          "output_type": "execute_result",
          "data": {
            "text/plain": [
              "batter                         0\n",
              "bowler                         0\n",
              "non_striker                    0\n",
              "runs_batter                    0\n",
              "runs_extras                    0\n",
              "runs_total                     0\n",
              "wickets_0_player_out         225\n",
              "wickets_0_kind               225\n",
              "team                           0\n",
              "over                           0\n",
              "extras_wides                   0\n",
              "wickets_0_fielders_0_name    228\n",
              "review_by                    235\n",
              "review_umpire                235\n",
              "review_batter                235\n",
              "review_decision              235\n",
              "review_type                  235\n",
              "extras_legbyes                 0\n",
              "wickets_0_fielders_1_name    235\n",
              "extras_noballs                 0\n",
              "extras_penalty                 0\n",
              "dtype: int64"
            ]
          },
          "metadata": {},
          "execution_count": 19
        }
      ]
    },
    {
      "cell_type": "code",
      "source": [
        "df.head()"
      ],
      "metadata": {
        "colab": {
          "base_uri": "https://localhost:8080/",
          "height": 516
        },
        "id": "keksRB5z-E-u",
        "outputId": "da116d4d-29f0-469f-fe24-3139787c952e"
      },
      "execution_count": 23,
      "outputs": [
        {
          "output_type": "execute_result",
          "data": {
            "text/plain": [
              "            batter          bowler non_striker  runs_batter  runs_extras  \\\n",
              "0  shayan jahangir  arshdeep singh   sr taylor            0            0   \n",
              "1         ags gous  arshdeep singh   sr taylor            0            0   \n",
              "2         ags gous  arshdeep singh   sr taylor            0            0   \n",
              "3         ags gous  arshdeep singh   sr taylor            0            1   \n",
              "4         ags gous  arshdeep singh   sr taylor            2            0   \n",
              "\n",
              "   runs_total wickets_0_player_out wickets_0_kind                      team  \\\n",
              "0           0      Shayan Jahangir            lbw  United States of America   \n",
              "1           0                  NaN            NaN  United States of America   \n",
              "2           0                  NaN            NaN  United States of America   \n",
              "3           1                  NaN            NaN  United States of America   \n",
              "4           2                  NaN            NaN  United States of America   \n",
              "\n",
              "   over  ...  wickets_0_fielders_0_name review_by review_umpire review_batter  \\\n",
              "0     0  ...                        NaN       NaN           NaN           NaN   \n",
              "1     0  ...                        NaN       NaN           NaN           NaN   \n",
              "2     0  ...                        NaN       NaN           NaN           NaN   \n",
              "3     0  ...                        NaN       NaN           NaN           NaN   \n",
              "4     0  ...                        NaN       NaN           NaN           NaN   \n",
              "\n",
              "  review_decision review_type extras_legbyes  wickets_0_fielders_1_name  \\\n",
              "0             NaN         NaN            0.0                        NaN   \n",
              "1             NaN         NaN            0.0                        NaN   \n",
              "2             NaN         NaN            0.0                        NaN   \n",
              "3             NaN         NaN            0.0                        NaN   \n",
              "4             NaN         NaN            0.0                        NaN   \n",
              "\n",
              "  extras_noballs  extras_penalty  \n",
              "0            0.0             0.0  \n",
              "1            0.0             0.0  \n",
              "2            0.0             0.0  \n",
              "3            0.0             0.0  \n",
              "4            0.0             0.0  \n",
              "\n",
              "[5 rows x 21 columns]"
            ],
            "text/html": [
              "\n",
              "  <div id=\"df-fef979a5-6314-4607-9172-8707980f47fb\" class=\"colab-df-container\">\n",
              "    <div>\n",
              "<style scoped>\n",
              "    .dataframe tbody tr th:only-of-type {\n",
              "        vertical-align: middle;\n",
              "    }\n",
              "\n",
              "    .dataframe tbody tr th {\n",
              "        vertical-align: top;\n",
              "    }\n",
              "\n",
              "    .dataframe thead th {\n",
              "        text-align: right;\n",
              "    }\n",
              "</style>\n",
              "<table border=\"1\" class=\"dataframe\">\n",
              "  <thead>\n",
              "    <tr style=\"text-align: right;\">\n",
              "      <th></th>\n",
              "      <th>batter</th>\n",
              "      <th>bowler</th>\n",
              "      <th>non_striker</th>\n",
              "      <th>runs_batter</th>\n",
              "      <th>runs_extras</th>\n",
              "      <th>runs_total</th>\n",
              "      <th>wickets_0_player_out</th>\n",
              "      <th>wickets_0_kind</th>\n",
              "      <th>team</th>\n",
              "      <th>over</th>\n",
              "      <th>...</th>\n",
              "      <th>wickets_0_fielders_0_name</th>\n",
              "      <th>review_by</th>\n",
              "      <th>review_umpire</th>\n",
              "      <th>review_batter</th>\n",
              "      <th>review_decision</th>\n",
              "      <th>review_type</th>\n",
              "      <th>extras_legbyes</th>\n",
              "      <th>wickets_0_fielders_1_name</th>\n",
              "      <th>extras_noballs</th>\n",
              "      <th>extras_penalty</th>\n",
              "    </tr>\n",
              "  </thead>\n",
              "  <tbody>\n",
              "    <tr>\n",
              "      <th>0</th>\n",
              "      <td>shayan jahangir</td>\n",
              "      <td>arshdeep singh</td>\n",
              "      <td>sr taylor</td>\n",
              "      <td>0</td>\n",
              "      <td>0</td>\n",
              "      <td>0</td>\n",
              "      <td>Shayan Jahangir</td>\n",
              "      <td>lbw</td>\n",
              "      <td>United States of America</td>\n",
              "      <td>0</td>\n",
              "      <td>...</td>\n",
              "      <td>NaN</td>\n",
              "      <td>NaN</td>\n",
              "      <td>NaN</td>\n",
              "      <td>NaN</td>\n",
              "      <td>NaN</td>\n",
              "      <td>NaN</td>\n",
              "      <td>0.0</td>\n",
              "      <td>NaN</td>\n",
              "      <td>0.0</td>\n",
              "      <td>0.0</td>\n",
              "    </tr>\n",
              "    <tr>\n",
              "      <th>1</th>\n",
              "      <td>ags gous</td>\n",
              "      <td>arshdeep singh</td>\n",
              "      <td>sr taylor</td>\n",
              "      <td>0</td>\n",
              "      <td>0</td>\n",
              "      <td>0</td>\n",
              "      <td>NaN</td>\n",
              "      <td>NaN</td>\n",
              "      <td>United States of America</td>\n",
              "      <td>0</td>\n",
              "      <td>...</td>\n",
              "      <td>NaN</td>\n",
              "      <td>NaN</td>\n",
              "      <td>NaN</td>\n",
              "      <td>NaN</td>\n",
              "      <td>NaN</td>\n",
              "      <td>NaN</td>\n",
              "      <td>0.0</td>\n",
              "      <td>NaN</td>\n",
              "      <td>0.0</td>\n",
              "      <td>0.0</td>\n",
              "    </tr>\n",
              "    <tr>\n",
              "      <th>2</th>\n",
              "      <td>ags gous</td>\n",
              "      <td>arshdeep singh</td>\n",
              "      <td>sr taylor</td>\n",
              "      <td>0</td>\n",
              "      <td>0</td>\n",
              "      <td>0</td>\n",
              "      <td>NaN</td>\n",
              "      <td>NaN</td>\n",
              "      <td>United States of America</td>\n",
              "      <td>0</td>\n",
              "      <td>...</td>\n",
              "      <td>NaN</td>\n",
              "      <td>NaN</td>\n",
              "      <td>NaN</td>\n",
              "      <td>NaN</td>\n",
              "      <td>NaN</td>\n",
              "      <td>NaN</td>\n",
              "      <td>0.0</td>\n",
              "      <td>NaN</td>\n",
              "      <td>0.0</td>\n",
              "      <td>0.0</td>\n",
              "    </tr>\n",
              "    <tr>\n",
              "      <th>3</th>\n",
              "      <td>ags gous</td>\n",
              "      <td>arshdeep singh</td>\n",
              "      <td>sr taylor</td>\n",
              "      <td>0</td>\n",
              "      <td>1</td>\n",
              "      <td>1</td>\n",
              "      <td>NaN</td>\n",
              "      <td>NaN</td>\n",
              "      <td>United States of America</td>\n",
              "      <td>0</td>\n",
              "      <td>...</td>\n",
              "      <td>NaN</td>\n",
              "      <td>NaN</td>\n",
              "      <td>NaN</td>\n",
              "      <td>NaN</td>\n",
              "      <td>NaN</td>\n",
              "      <td>NaN</td>\n",
              "      <td>0.0</td>\n",
              "      <td>NaN</td>\n",
              "      <td>0.0</td>\n",
              "      <td>0.0</td>\n",
              "    </tr>\n",
              "    <tr>\n",
              "      <th>4</th>\n",
              "      <td>ags gous</td>\n",
              "      <td>arshdeep singh</td>\n",
              "      <td>sr taylor</td>\n",
              "      <td>2</td>\n",
              "      <td>0</td>\n",
              "      <td>2</td>\n",
              "      <td>NaN</td>\n",
              "      <td>NaN</td>\n",
              "      <td>United States of America</td>\n",
              "      <td>0</td>\n",
              "      <td>...</td>\n",
              "      <td>NaN</td>\n",
              "      <td>NaN</td>\n",
              "      <td>NaN</td>\n",
              "      <td>NaN</td>\n",
              "      <td>NaN</td>\n",
              "      <td>NaN</td>\n",
              "      <td>0.0</td>\n",
              "      <td>NaN</td>\n",
              "      <td>0.0</td>\n",
              "      <td>0.0</td>\n",
              "    </tr>\n",
              "  </tbody>\n",
              "</table>\n",
              "<p>5 rows × 21 columns</p>\n",
              "</div>\n",
              "    <div class=\"colab-df-buttons\">\n",
              "\n",
              "  <div class=\"colab-df-container\">\n",
              "    <button class=\"colab-df-convert\" onclick=\"convertToInteractive('df-fef979a5-6314-4607-9172-8707980f47fb')\"\n",
              "            title=\"Convert this dataframe to an interactive table.\"\n",
              "            style=\"display:none;\">\n",
              "\n",
              "  <svg xmlns=\"http://www.w3.org/2000/svg\" height=\"24px\" viewBox=\"0 -960 960 960\">\n",
              "    <path d=\"M120-120v-720h720v720H120Zm60-500h600v-160H180v160Zm220 220h160v-160H400v160Zm0 220h160v-160H400v160ZM180-400h160v-160H180v160Zm440 0h160v-160H620v160ZM180-180h160v-160H180v160Zm440 0h160v-160H620v160Z\"/>\n",
              "  </svg>\n",
              "    </button>\n",
              "\n",
              "  <style>\n",
              "    .colab-df-container {\n",
              "      display:flex;\n",
              "      gap: 12px;\n",
              "    }\n",
              "\n",
              "    .colab-df-convert {\n",
              "      background-color: #E8F0FE;\n",
              "      border: none;\n",
              "      border-radius: 50%;\n",
              "      cursor: pointer;\n",
              "      display: none;\n",
              "      fill: #1967D2;\n",
              "      height: 32px;\n",
              "      padding: 0 0 0 0;\n",
              "      width: 32px;\n",
              "    }\n",
              "\n",
              "    .colab-df-convert:hover {\n",
              "      background-color: #E2EBFA;\n",
              "      box-shadow: 0px 1px 2px rgba(60, 64, 67, 0.3), 0px 1px 3px 1px rgba(60, 64, 67, 0.15);\n",
              "      fill: #174EA6;\n",
              "    }\n",
              "\n",
              "    .colab-df-buttons div {\n",
              "      margin-bottom: 4px;\n",
              "    }\n",
              "\n",
              "    [theme=dark] .colab-df-convert {\n",
              "      background-color: #3B4455;\n",
              "      fill: #D2E3FC;\n",
              "    }\n",
              "\n",
              "    [theme=dark] .colab-df-convert:hover {\n",
              "      background-color: #434B5C;\n",
              "      box-shadow: 0px 1px 3px 1px rgba(0, 0, 0, 0.15);\n",
              "      filter: drop-shadow(0px 1px 2px rgba(0, 0, 0, 0.3));\n",
              "      fill: #FFFFFF;\n",
              "    }\n",
              "  </style>\n",
              "\n",
              "    <script>\n",
              "      const buttonEl =\n",
              "        document.querySelector('#df-fef979a5-6314-4607-9172-8707980f47fb button.colab-df-convert');\n",
              "      buttonEl.style.display =\n",
              "        google.colab.kernel.accessAllowed ? 'block' : 'none';\n",
              "\n",
              "      async function convertToInteractive(key) {\n",
              "        const element = document.querySelector('#df-fef979a5-6314-4607-9172-8707980f47fb');\n",
              "        const dataTable =\n",
              "          await google.colab.kernel.invokeFunction('convertToInteractive',\n",
              "                                                    [key], {});\n",
              "        if (!dataTable) return;\n",
              "\n",
              "        const docLinkHtml = 'Like what you see? Visit the ' +\n",
              "          '<a target=\"_blank\" href=https://colab.research.google.com/notebooks/data_table.ipynb>data table notebook</a>'\n",
              "          + ' to learn more about interactive tables.';\n",
              "        element.innerHTML = '';\n",
              "        dataTable['output_type'] = 'display_data';\n",
              "        await google.colab.output.renderOutput(dataTable, element);\n",
              "        const docLink = document.createElement('div');\n",
              "        docLink.innerHTML = docLinkHtml;\n",
              "        element.appendChild(docLink);\n",
              "      }\n",
              "    </script>\n",
              "  </div>\n",
              "\n",
              "\n",
              "<div id=\"df-dcc47e12-ad1d-448e-b4d4-4cc76e98b933\">\n",
              "  <button class=\"colab-df-quickchart\" onclick=\"quickchart('df-dcc47e12-ad1d-448e-b4d4-4cc76e98b933')\"\n",
              "            title=\"Suggest charts\"\n",
              "            style=\"display:none;\">\n",
              "\n",
              "<svg xmlns=\"http://www.w3.org/2000/svg\" height=\"24px\"viewBox=\"0 0 24 24\"\n",
              "     width=\"24px\">\n",
              "    <g>\n",
              "        <path d=\"M19 3H5c-1.1 0-2 .9-2 2v14c0 1.1.9 2 2 2h14c1.1 0 2-.9 2-2V5c0-1.1-.9-2-2-2zM9 17H7v-7h2v7zm4 0h-2V7h2v10zm4 0h-2v-4h2v4z\"/>\n",
              "    </g>\n",
              "</svg>\n",
              "  </button>\n",
              "\n",
              "<style>\n",
              "  .colab-df-quickchart {\n",
              "      --bg-color: #E8F0FE;\n",
              "      --fill-color: #1967D2;\n",
              "      --hover-bg-color: #E2EBFA;\n",
              "      --hover-fill-color: #174EA6;\n",
              "      --disabled-fill-color: #AAA;\n",
              "      --disabled-bg-color: #DDD;\n",
              "  }\n",
              "\n",
              "  [theme=dark] .colab-df-quickchart {\n",
              "      --bg-color: #3B4455;\n",
              "      --fill-color: #D2E3FC;\n",
              "      --hover-bg-color: #434B5C;\n",
              "      --hover-fill-color: #FFFFFF;\n",
              "      --disabled-bg-color: #3B4455;\n",
              "      --disabled-fill-color: #666;\n",
              "  }\n",
              "\n",
              "  .colab-df-quickchart {\n",
              "    background-color: var(--bg-color);\n",
              "    border: none;\n",
              "    border-radius: 50%;\n",
              "    cursor: pointer;\n",
              "    display: none;\n",
              "    fill: var(--fill-color);\n",
              "    height: 32px;\n",
              "    padding: 0;\n",
              "    width: 32px;\n",
              "  }\n",
              "\n",
              "  .colab-df-quickchart:hover {\n",
              "    background-color: var(--hover-bg-color);\n",
              "    box-shadow: 0 1px 2px rgba(60, 64, 67, 0.3), 0 1px 3px 1px rgba(60, 64, 67, 0.15);\n",
              "    fill: var(--button-hover-fill-color);\n",
              "  }\n",
              "\n",
              "  .colab-df-quickchart-complete:disabled,\n",
              "  .colab-df-quickchart-complete:disabled:hover {\n",
              "    background-color: var(--disabled-bg-color);\n",
              "    fill: var(--disabled-fill-color);\n",
              "    box-shadow: none;\n",
              "  }\n",
              "\n",
              "  .colab-df-spinner {\n",
              "    border: 2px solid var(--fill-color);\n",
              "    border-color: transparent;\n",
              "    border-bottom-color: var(--fill-color);\n",
              "    animation:\n",
              "      spin 1s steps(1) infinite;\n",
              "  }\n",
              "\n",
              "  @keyframes spin {\n",
              "    0% {\n",
              "      border-color: transparent;\n",
              "      border-bottom-color: var(--fill-color);\n",
              "      border-left-color: var(--fill-color);\n",
              "    }\n",
              "    20% {\n",
              "      border-color: transparent;\n",
              "      border-left-color: var(--fill-color);\n",
              "      border-top-color: var(--fill-color);\n",
              "    }\n",
              "    30% {\n",
              "      border-color: transparent;\n",
              "      border-left-color: var(--fill-color);\n",
              "      border-top-color: var(--fill-color);\n",
              "      border-right-color: var(--fill-color);\n",
              "    }\n",
              "    40% {\n",
              "      border-color: transparent;\n",
              "      border-right-color: var(--fill-color);\n",
              "      border-top-color: var(--fill-color);\n",
              "    }\n",
              "    60% {\n",
              "      border-color: transparent;\n",
              "      border-right-color: var(--fill-color);\n",
              "    }\n",
              "    80% {\n",
              "      border-color: transparent;\n",
              "      border-right-color: var(--fill-color);\n",
              "      border-bottom-color: var(--fill-color);\n",
              "    }\n",
              "    90% {\n",
              "      border-color: transparent;\n",
              "      border-bottom-color: var(--fill-color);\n",
              "    }\n",
              "  }\n",
              "</style>\n",
              "\n",
              "  <script>\n",
              "    async function quickchart(key) {\n",
              "      const quickchartButtonEl =\n",
              "        document.querySelector('#' + key + ' button');\n",
              "      quickchartButtonEl.disabled = true;  // To prevent multiple clicks.\n",
              "      quickchartButtonEl.classList.add('colab-df-spinner');\n",
              "      try {\n",
              "        const charts = await google.colab.kernel.invokeFunction(\n",
              "            'suggestCharts', [key], {});\n",
              "      } catch (error) {\n",
              "        console.error('Error during call to suggestCharts:', error);\n",
              "      }\n",
              "      quickchartButtonEl.classList.remove('colab-df-spinner');\n",
              "      quickchartButtonEl.classList.add('colab-df-quickchart-complete');\n",
              "    }\n",
              "    (() => {\n",
              "      let quickchartButtonEl =\n",
              "        document.querySelector('#df-dcc47e12-ad1d-448e-b4d4-4cc76e98b933 button');\n",
              "      quickchartButtonEl.style.display =\n",
              "        google.colab.kernel.accessAllowed ? 'block' : 'none';\n",
              "    })();\n",
              "  </script>\n",
              "</div>\n",
              "\n",
              "    </div>\n",
              "  </div>\n"
            ],
            "application/vnd.google.colaboratory.intrinsic+json": {
              "type": "dataframe",
              "variable_name": "df"
            }
          },
          "metadata": {},
          "execution_count": 23
        }
      ]
    },
    {
      "cell_type": "markdown",
      "source": [
        "# VISUALIZING AND ANALYZING THE DATA"
      ],
      "metadata": {
        "id": "2Gh42ER-bdm9"
      }
    },
    {
      "cell_type": "code",
      "source": [
        "import seaborn as sns\n"
      ],
      "metadata": {
        "id": "zCO8UhLE6NZ9"
      },
      "execution_count": 26,
      "outputs": []
    },
    {
      "cell_type": "markdown",
      "source": [
        "**TYPES OF RUNS BY EACH TEAM**"
      ],
      "metadata": {
        "id": "gYJMCAQubmdx"
      }
    },
    {
      "cell_type": "code",
      "source": [
        "g = sns.FacetGrid(df, col='team', col_wrap=2, height=5, aspect=1.5)\n",
        "g.map(sns.histplot, 'runs_total', bins=10, kde=True)\n",
        "g.set_titles('{col_name}')\n",
        "g.set_axis_labels('Total Runs', 'Frequency')\n",
        "plt.show()\n"
      ],
      "metadata": {
        "colab": {
          "base_uri": "https://localhost:8080/",
          "height": 505
        },
        "id": "xIt-_VDM7vsh",
        "outputId": "9b5ca212-6991-4340-db33-e0f2c35cada1"
      },
      "execution_count": 96,
      "outputs": [
        {
          "output_type": "display_data",
          "data": {
            "text/plain": [
              "<Figure size 1500x500 with 2 Axes>"
            ],
            "image/png": "[encoded data removed]"
          },
          "metadata": {}
        }
      ]
    },
    {
      "cell_type": "markdown",
      "source": [
        "**INDIVIDUAL BATTER AND BOWLER ANALYSIS**"
      ],
      "metadata": {
        "id": "69a_cBOObsJ9"
      }
    },
    {
      "cell_type": "code",
      "source": [
        "# Total runs scored by each batter & Average runs per ball for each batter\n",
        "batter_stats = df.groupby('batter').agg({\n",
        " 'runs_batter': ['sum', 'mean', 'max'],\n",
        "}).reset_index()\n",
        "\n",
        "batter_stats.columns = ['batter', 'total_runs', 'avg_runs_per_ball',\n",
        "                          'max_runs_in_ball']\n",
        "print(batter_stats)\n",
        "\n",
        "# Total wickets taken by each bowler\n",
        "bowler_stats = df.groupby('bowler').agg({\n",
        " 'wickets_0_player_out': 'count',\n",
        " 'runs_total': 'sum'\n",
        "}).reset_index()\n",
        "\n",
        "bowler_stats.columns = ['bowler', 'wickets_taken', 'runs_conceded']\n",
        "print(bowler_stats)\n",
        "\n"
      ],
      "metadata": {
        "colab": {
          "base_uri": "https://localhost:8080/"
        },
        "id": "RdQW08Lj71jN",
        "outputId": "3c7b2cbb-c639-4624-d363-2dd54e823d32"
      },
      "execution_count": 51,
      "outputs": [
        {
          "output_type": "stream",
          "name": "stdout",
          "text": [
            "              batter  total_runs  avg_runs_per_ball  max_runs_in_ball\n",
            "0        aaron jones          11           0.500000                 6\n",
            "1           ags gous           2           0.333333                 2\n",
            "2        cj anderson          15           1.250000                 6\n",
            "3      harmeet singh          10           1.000000                 6\n",
            "4      jasdeep singh           2           0.285714                 1\n",
            "5           nr kumar          27           1.125000                 6\n",
            "6          rg sharma           3           0.500000                 1\n",
            "7            rr pant          18           0.900000                 6\n",
            "8             s dube          31           0.837838                 6\n",
            "9           sa yadav          50           1.020408                 6\n",
            "10  sc van schalkwyk          11           1.100000                 4\n",
            "11   shayan jahangir           0           0.000000                 0\n",
            "12         sr taylor          24           0.774194                 6\n",
            "13           v kohli           0           0.000000                 0\n",
            "              bowler  wickets_taken  runs_conceded\n",
            "0           ali khan              1             22\n",
            "1           ar patel              1             25\n",
            "2     arshdeep singh              4              9\n",
            "3        cj anderson              0             22\n",
            "4          hh pandya              2             15\n",
            "5      jasdeep singh              0             24\n",
            "6          jj bumrah              0             25\n",
            "7     mohammed siraj              1             25\n",
            "8             s dube              0             11\n",
            "9   sc van schalkwyk              0             25\n",
            "10    sn netravalkar              2             18\n"
          ]
        }
      ]
    },
    {
      "cell_type": "code",
      "source": [
        "# batter_stats['total_balls'] = df.groupby('batter').size()\n",
        "# print(batter_stats['total_balls'])\n",
        "total_balls=df.groupby('batter').size()\n",
        "batter_stats['total_balls'] = total_balls.values\n",
        "print(batter_stats)"
      ],
      "metadata": {
        "colab": {
          "base_uri": "https://localhost:8080/"
        },
        "id": "-btgQfz68yOy",
        "outputId": "7872516c-98c1-4df7-b1d8-77664f6112ff"
      },
      "execution_count": 57,
      "outputs": [
        {
          "output_type": "stream",
          "name": "stdout",
          "text": [
            "              batter  total_runs  avg_runs_per_ball  max_runs_in_ball  \\\n",
            "0        aaron jones          11           0.500000                 6   \n",
            "1           ags gous           2           0.333333                 2   \n",
            "2        cj anderson          15           1.250000                 6   \n",
            "3      harmeet singh          10           1.000000                 6   \n",
            "4      jasdeep singh           2           0.285714                 1   \n",
            "5           nr kumar          27           1.125000                 6   \n",
            "6          rg sharma           3           0.500000                 1   \n",
            "7            rr pant          18           0.900000                 6   \n",
            "8             s dube          31           0.837838                 6   \n",
            "9           sa yadav          50           1.020408                 6   \n",
            "10  sc van schalkwyk          11           1.100000                 4   \n",
            "11   shayan jahangir           0           0.000000                 0   \n",
            "12         sr taylor          24           0.774194                 6   \n",
            "13           v kohli           0           0.000000                 0   \n",
            "\n",
            "    total_balls  \n",
            "0            22  \n",
            "1             6  \n",
            "2            12  \n",
            "3            10  \n",
            "4             7  \n",
            "5            24  \n",
            "6             6  \n",
            "7            20  \n",
            "8            37  \n",
            "9            49  \n",
            "10           10  \n",
            "11            1  \n",
            "12           31  \n",
            "13            1  \n"
          ]
        }
      ]
    },
    {
      "cell_type": "code",
      "source": [
        "batter_stats['strike_rate'] = (batter_stats['total_runs'] / batter_stats['total_balls'])*100\n",
        "print(batter_stats)"
      ],
      "metadata": {
        "colab": {
          "base_uri": "https://localhost:8080/"
        },
        "id": "YlQ_Q1Sr_812",
        "outputId": "f2f2118f-4bdb-40de-9621-9b300fd70d4a"
      },
      "execution_count": 58,
      "outputs": [
        {
          "output_type": "stream",
          "name": "stdout",
          "text": [
            "              batter  total_runs  avg_runs_per_ball  max_runs_in_ball  \\\n",
            "0        aaron jones          11           0.500000                 6   \n",
            "1           ags gous           2           0.333333                 2   \n",
            "2        cj anderson          15           1.250000                 6   \n",
            "3      harmeet singh          10           1.000000                 6   \n",
            "4      jasdeep singh           2           0.285714                 1   \n",
            "5           nr kumar          27           1.125000                 6   \n",
            "6          rg sharma           3           0.500000                 1   \n",
            "7            rr pant          18           0.900000                 6   \n",
            "8             s dube          31           0.837838                 6   \n",
            "9           sa yadav          50           1.020408                 6   \n",
            "10  sc van schalkwyk          11           1.100000                 4   \n",
            "11   shayan jahangir           0           0.000000                 0   \n",
            "12         sr taylor          24           0.774194                 6   \n",
            "13           v kohli           0           0.000000                 0   \n",
            "\n",
            "    total_balls  strike_rate  \n",
            "0            22    50.000000  \n",
            "1             6    33.333333  \n",
            "2            12   125.000000  \n",
            "3            10   100.000000  \n",
            "4             7    28.571429  \n",
            "5            24   112.500000  \n",
            "6             6    50.000000  \n",
            "7            20    90.000000  \n",
            "8            37    83.783784  \n",
            "9            49   102.040816  \n",
            "10           10   110.000000  \n",
            "11            1     0.000000  \n",
            "12           31    77.419355  \n",
            "13            1     0.000000  \n"
          ]
        }
      ]
    },
    {
      "cell_type": "code",
      "source": [
        "# Economy Rate Calculation:\n",
        "\n",
        "overs_bowled = df.groupby('bowler')['over'].max()\n",
        "\n",
        "bowler_stats['overs_bowled'] = overs_bowled.values\n",
        "bowler_stats['economy_rate'] = (bowler_stats['runs_conceded'] /\n",
        "                                 bowler_stats['overs_bowled'])\n",
        "\n",
        "print(bowler_stats)"
      ],
      "metadata": {
        "colab": {
          "base_uri": "https://localhost:8080/"
        },
        "id": "-ri35Ie5BAqf",
        "outputId": "a56d74bb-5f5e-4d8b-e59c-3d70ad2b09a0"
      },
      "execution_count": 61,
      "outputs": [
        {
          "output_type": "stream",
          "name": "stdout",
          "text": [
            "              bowler  wickets_taken  runs_conceded  overs_bowled  economy_rate\n",
            "0           ali khan              1             22            18      1.222222\n",
            "1           ar patel              1             25            13      1.923077\n",
            "2     arshdeep singh              4              9            17      0.529412\n",
            "3        cj anderson              0             22            14      1.571429\n",
            "4          hh pandya              2             15            16      0.937500\n",
            "5      jasdeep singh              0             24            15      1.600000\n",
            "6          jj bumrah              0             25            18      1.388889\n",
            "7     mohammed siraj              1             25            19      1.315789\n",
            "8             s dube              0             11             8      1.375000\n",
            "9   sc van schalkwyk              0             25            16      1.562500\n",
            "10    sn netravalkar              2             18            17      1.058824\n"
          ]
        }
      ]
    },
    {
      "cell_type": "code",
      "source": [
        "df['batter_bowler_runs'] = df.groupby(['batter', 'bowler'])['runs_batter'].transform('mean')\n",
        "print(df['batter_bowler_runs'])"
      ],
      "metadata": {
        "colab": {
          "base_uri": "https://localhost:8080/"
        },
        "id": "SODEsibbRm6N",
        "outputId": "c2d1a1fd-9030-483a-a3df-0f2326a87ef7"
      },
      "execution_count": 65,
      "outputs": [
        {
          "output_type": "stream",
          "name": "stdout",
          "text": [
            "0      0.000000\n",
            "1      0.333333\n",
            "2      0.333333\n",
            "3      0.333333\n",
            "4      0.333333\n",
            "         ...   \n",
            "231    1.076923\n",
            "232    1.076923\n",
            "233    1.750000\n",
            "234    0.444444\n",
            "235    0.444444\n",
            "Name: batter_bowler_runs, Length: 236, dtype: float64\n"
          ]
        }
      ]
    },
    {
      "cell_type": "markdown",
      "source": [
        "**BATTER BOWLER RELATION**"
      ],
      "metadata": {
        "id": "qxpSgBQ5b-Q0"
      }
    },
    {
      "cell_type": "code",
      "source": [
        "# Calculate average runs scored by each batter against each bowler\n",
        "batter_bowler_runs = df.groupby(['batter', 'bowler'])['runs_batter'].mean().reset_index()\n",
        "batter_bowler_runs['batter_bowler_runs'] = batter_bowler_runs['runs_batter'].round().astype(int)\n",
        "batter_bowler_runs.drop('runs_batter', axis=1, inplace=True)\n",
        "\n",
        "# Display the result\n",
        "print(\"Average runs scored by each batter against each bowler:\")\n",
        "print(batter_bowler_runs)\n"
      ],
      "metadata": {
        "colab": {
          "base_uri": "https://localhost:8080/"
        },
        "id": "IQG_SGjyR7WB",
        "outputId": "9875bdad-6305-407d-8761-7f61c30c2c4e"
      },
      "execution_count": 71,
      "outputs": [
        {
          "output_type": "stream",
          "name": "stdout",
          "text": [
            "Average runs scored by each batter against each bowler:\n",
            "              batter            bowler  batter_bowler_runs\n",
            "0        aaron jones    arshdeep singh                   0\n",
            "1        aaron jones         hh pandya                   0\n",
            "2        aaron jones         jj bumrah                   0\n",
            "3        aaron jones    mohammed siraj                   1\n",
            "4           ags gous    arshdeep singh                   0\n",
            "5        cj anderson          ar patel                   2\n",
            "6        cj anderson    arshdeep singh                   1\n",
            "7        cj anderson         hh pandya                   0\n",
            "8        cj anderson         jj bumrah                   1\n",
            "9      harmeet singh    arshdeep singh                   0\n",
            "10     harmeet singh         hh pandya                   0\n",
            "11     harmeet singh         jj bumrah                   4\n",
            "12     jasdeep singh    arshdeep singh                   0\n",
            "13     jasdeep singh         jj bumrah                   0\n",
            "14     jasdeep singh    mohammed siraj                   0\n",
            "15          nr kumar          ar patel                   1\n",
            "16          nr kumar    arshdeep singh                   0\n",
            "17          nr kumar         hh pandya                   2\n",
            "18          nr kumar    mohammed siraj                   1\n",
            "19          nr kumar            s dube                   2\n",
            "20         rg sharma          ali khan                   1\n",
            "21         rg sharma    sn netravalkar                   0\n",
            "22           rr pant          ali khan                   1\n",
            "23           rr pant     jasdeep singh                   1\n",
            "24           rr pant  sc van schalkwyk                   1\n",
            "25           rr pant    sn netravalkar                   0\n",
            "26            s dube          ali khan                   0\n",
            "27            s dube       cj anderson                   1\n",
            "28            s dube     jasdeep singh                   1\n",
            "29            s dube  sc van schalkwyk                   1\n",
            "30            s dube    sn netravalkar                   1\n",
            "31          sa yadav          ali khan                   2\n",
            "32          sa yadav       cj anderson                   1\n",
            "33          sa yadav     jasdeep singh                   1\n",
            "34          sa yadav  sc van schalkwyk                   1\n",
            "35          sa yadav    sn netravalkar                   1\n",
            "36  sc van schalkwyk    arshdeep singh                   1\n",
            "37  sc van schalkwyk         hh pandya                   0\n",
            "38  sc van schalkwyk         jj bumrah                   1\n",
            "39  sc van schalkwyk    mohammed siraj                   1\n",
            "40   shayan jahangir    arshdeep singh                   0\n",
            "41         sr taylor          ar patel                   2\n",
            "42         sr taylor    arshdeep singh                   0\n",
            "43         sr taylor         hh pandya                   0\n",
            "44         sr taylor         jj bumrah                   0\n",
            "45         sr taylor    mohammed siraj                   1\n",
            "46         sr taylor            s dube                   2\n",
            "47           v kohli    sn netravalkar                   0\n"
          ]
        }
      ]
    },
    {
      "cell_type": "markdown",
      "source": [
        "**SECTIONING OF THE GAME**"
      ],
      "metadata": {
        "id": "6jPVa3Q-cHg7"
      }
    },
    {
      "cell_type": "code",
      "source": [
        "#  The first 6 overs of a T20 match are the “powerplay,” where fielding restrictions are in place.\n",
        "\n",
        "df['is_powerplay'] = df['over'] < 6\n",
        "\n",
        "# The last few overs of an inning often see accelerated scoring.\n",
        "\n",
        "df['is_death_overs'] = df['over'] >= 15\n",
        "\n",
        "#  Wickets become more valuable as the innings progress.\n",
        "\n",
        "df['wicket_value'] = df['wickets_0_player_out'].fillna(0) * (df['over'] + 1)"
      ],
      "metadata": {
        "id": "O7zqYAMMSvdr"
      },
      "execution_count": 72,
      "outputs": []
    },
    {
      "cell_type": "code",
      "source": [
        "    # Running total of team score\n",
        "\n",
        "df['running_team_score'] = df.groupby('team')['runs_total'].cumsum()\n",
        "\n",
        "    # Running average of runs per over\n",
        "\n",
        "df['running_avg_runs_per_over'] = df.groupby('team')['runs_total'].expanding().mean().reset_index(level=0, drop=True)\n",
        "\n",
        "    # balls since last wicket\n",
        "df['wickets_0_player_out'] = pd.to_numeric(df['wickets_0_player_out'], errors='coerce')\n",
        "df['wickets_0_player_out'] = df['wickets_0_player_out'].fillna(0)\n",
        "df['balls_since_last_wicket'] = df.groupby('team').cumcount() - df.groupby('team')['wickets_0_player_out'].cumsum().fillna(method='ffill') - 1"
      ],
      "metadata": {
        "id": "RBC5gG30Tb5-"
      },
      "execution_count": 87,
      "outputs": []
    },
    {
      "cell_type": "code",
      "source": [
        "# Batter’s runs in last 10 balls\n",
        "\n",
        "df['batter_last_10_balls'] = df.groupby('batter')['runs_batter'].rolling(window=10, min_periods=1).sum().reset_index(level=0, drop=True)\n",
        "\n",
        "    # Bowler’s economy rate in last 2 overs\n",
        "\n",
        "df['bowler_last_12_balls_economy'] = df.groupby('bowler')['runs_total'].rolling(window=12, min_periods=1).mean().reset_index(level=0, drop=True) * 6\n",
        "\n",
        "    # Team’s run rate in last 5 overs compared to overall run rate\n",
        "\n",
        "df['team_last_5_overs_run_rate'] = df.groupby('team')['runs_total'].rolling(window=30, min_periods=1).mean().reset_index(level=0, drop=True)\n",
        "\n",
        "df['team_overall_run_rate'] = df.groupby('team')['runs_total'].expanding().mean().reset_index(level=0, drop=True)\n",
        "\n",
        "df['team_momentum'] = df['team_last_5_overs_run_rate'] - df['team_overall_run_rate']\n",
        "\n"
      ],
      "metadata": {
        "id": "ZWI2ZkB2VUUM"
      },
      "execution_count": 90,
      "outputs": []
    },
    {
      "cell_type": "code",
      "source": [
        "# Top batsmen by total runs\n",
        "top_batsmen = df.groupby('batter')['runs_batter'].sum().sort_values(ascending=False).head(10)\n",
        "print(\"Top 10 Batsmen by Total Runs:\\n\", top_batsmen)\n",
        "\n",
        "# Top bowlers by wickets taken\n",
        "top_bowlers = df[df['wickets_0_player_out'].notna()].groupby('bowler')['wickets_0_player_out'].count().sort_values(ascending=False).head(10)\n",
        "print(\"Top 10 Bowlers by Wickets Taken:\\n\", top_bowlers)\n"
      ],
      "metadata": {
        "colab": {
          "base_uri": "https://localhost:8080/"
        },
        "id": "6NP-mA-_UVF7",
        "outputId": "950130af-67fc-4d29-cf46-224cfbcde9d9"
      },
      "execution_count": 93,
      "outputs": [
        {
          "output_type": "stream",
          "name": "stdout",
          "text": [
            "Top 10 Batsmen by Total Runs:\n",
            " batter\n",
            "sa yadav            50\n",
            "s dube              31\n",
            "nr kumar            27\n",
            "sr taylor           24\n",
            "rr pant             18\n",
            "cj anderson         15\n",
            "aaron jones         11\n",
            "sc van schalkwyk    11\n",
            "harmeet singh       10\n",
            "rg sharma            3\n",
            "Name: runs_batter, dtype: int64\n",
            "Top 10 Bowlers by Wickets Taken:\n",
            " bowler\n",
            "arshdeep singh      25\n",
            "jasdeep singh       25\n",
            "jj bumrah           25\n",
            "hh pandya           24\n",
            "mohammed siraj      24\n",
            "sc van schalkwyk    24\n",
            "sn netravalkar      24\n",
            "ali khan            21\n",
            "ar patel            19\n",
            "cj anderson         19\n",
            "Name: wickets_0_player_out, dtype: int64\n"
          ]
        }
      ]
    },
    {
      "cell_type": "code",
      "source": [
        "import matplotlib.pyplot as plt\n",
        "import seaborn as sns\n",
        "\n",
        "plt.figure(figsize=(12, 6))\n",
        "\n",
        "# Dismissal modes\n",
        "dismissal_modes = df['wickets_0_kind'].value_counts()\n",
        "plt.subplot(1, 2, 1)  # First subplot\n",
        "sns.barplot(x=dismissal_modes.index, y=dismissal_modes.values, color='blue')\n",
        "plt.title('Dismissal Modes')\n",
        "plt.xlabel('Mode of Dismissal')\n",
        "plt.ylabel('Count')\n",
        "\n",
        "# Fielders involved in dismissals\n",
        "fielders = df['wickets_0_fielders_0_name'].value_counts().head(10)\n",
        "plt.subplot(1, 2, 2)  # Second subplot\n",
        "sns.barplot(x=fielders.index, y=fielders.values, color='green')\n",
        "plt.title('Top Fielders Involved in Dismissals')\n",
        "plt.xlabel('Fielder')\n",
        "plt.ylabel('Count')\n",
        "\n",
        "plt.tight_layout()\n",
        "plt.show()\n",
        "\n"
      ],
      "metadata": {
        "colab": {
          "base_uri": "https://localhost:8080/",
          "height": 627
        },
        "id": "qR9J1_T3WS-Y",
        "outputId": "462cc666-8635-49c8-cbf3-ddc64c6cb07b"
      },
      "execution_count": 115,
      "outputs": [
        {
          "output_type": "display_data",
          "data": {
            "text/plain": [
              "<Figure size 1200x600 with 2 Axes>"
            ],
            "image/png": "[encoded data removed]"
          },
          "metadata": {}
        }
      ]
    },
    {
      "cell_type": "code",
      "source": [
        "# Calculate the scoring rate before and after wickets\n",
        "df['cumulative_runs'] = df['runs_total'].cumsum()\n",
        "df['cumulative_balls'] = df.index + 1\n",
        "df['scoring_rate'] = df['cumulative_runs'] / df['cumulative_balls']\n",
        "\n",
        "# Filter data to only include balls where a wicket fell\n",
        "wicket_events = df[df['wickets_0_player_out'].notna()]\n",
        "\n",
        "# Calculate the average scoring rate before and after each wicket\n",
        "wicket_events['prev_scoring_rate'] = wicket_events['scoring_rate'].shift(1)\n",
        "wicket_events['next_scoring_rate'] = wicket_events['scoring_rate'].shift(-1)\n",
        "\n",
        "# Drop rows with NaN values resulting from shifting\n",
        "wicket_events.dropna(subset=['prev_scoring_rate', 'next_scoring_rate'], inplace=True)\n",
        "\n",
        "# Calculate the change in scoring rate\n",
        "wicket_events['change_in_scoring_rate'] = wicket_events['next_scoring_rate'] - wicket_events['prev_scoring_rate']\n",
        "\n",
        "print(\"Impact of Wickets on Scoring Rate:\\n\", wicket_events[['over', 'wickets_0_player_out', 'prev_scoring_rate', 'next_scoring_rate', 'change_in_scoring_rate']])\n",
        "\n",
        "# Visualize the change in scoring rate after wickets\n",
        "plt.figure(figsize=(10, 6))\n",
        "sns.histplot(wicket_events['change_in_scoring_rate'], kde=True, bins=20)\n",
        "plt.title('Change in Scoring Rate After Wickets')\n",
        "plt.xlabel('Change in Scoring Rate')\n",
        "plt.ylabel('Frequency')\n",
        "plt.show()\n"
      ],
      "metadata": {
        "colab": {
          "base_uri": "https://localhost:8080/",
          "height": 1000
        },
        "id": "eBOVsVWUZWM_",
        "outputId": "27b0f28a-c20a-4db0-d573-688da0349f5e"
      },
      "execution_count": 112,
      "outputs": [
        {
          "output_type": "stream",
          "name": "stdout",
          "text": [
            "Impact of Wickets on Scoring Rate:\n",
            "      over  wickets_0_player_out  prev_scoring_rate  next_scoring_rate  \\\n",
            "1       0                   0.0           0.000000           0.000000   \n",
            "2       0                   0.0           0.000000           0.250000   \n",
            "3       0                   0.0           0.000000           0.600000   \n",
            "4       0                   0.0           0.250000           0.500000   \n",
            "5       0                   0.0           0.600000           0.428571   \n",
            "..    ...                   ...                ...                ...   \n",
            "230    17                   0.0           0.939130           0.931034   \n",
            "231    17                   0.0           0.935065           0.931330   \n",
            "232    17                   0.0           0.931034           0.931624   \n",
            "233    18                   0.0           0.931330           0.931915   \n",
            "234    18                   0.0           0.931624           0.936441   \n",
            "\n",
            "     change_in_scoring_rate  \n",
            "1                  0.000000  \n",
            "2                  0.250000  \n",
            "3                  0.600000  \n",
            "4                  0.250000  \n",
            "5                 -0.171429  \n",
            "..                      ...  \n",
            "230               -0.008096  \n",
            "231               -0.003734  \n",
            "232                0.000589  \n",
            "233                0.000584  \n",
            "234                0.004817  \n",
            "\n",
            "[234 rows x 5 columns]\n"
          ]
        },
        {
          "output_type": "display_data",
          "data": {
            "text/plain": [
              "<Figure size 1000x600 with 1 Axes>"
            ],
            "image/png": "[encoded data removed]"
          },
          "metadata": {}
        }
      ]
    },
    {
      "cell_type": "code",
      "source": [
        "# Total extras by type\n",
        "extras_summary = df[['extras_wides', 'extras_legbyes', 'extras_noballs', 'extras_penalty']].sum()\n",
        "plt.figure(figsize=(12, 6))\n",
        "sns.barplot(x=extras_summary.index, y=extras_summary.values)\n",
        "plt.title('Summary of Extra Runs by Type')\n",
        "plt.xlabel('Type of Extra')\n",
        "plt.ylabel('Total Runs')\n",
        "plt.show()\n"
      ],
      "metadata": {
        "colab": {
          "base_uri": "https://localhost:8080/",
          "height": 584
        },
        "id": "yVDYRjV6WXj4",
        "outputId": "8a9b288d-7ddb-4bf1-f6c9-625e8809d989"
      },
      "execution_count": 106,
      "outputs": [
        {
          "output_type": "display_data",
          "data": {
            "text/plain": [
              "<Figure size 1200x600 with 1 Axes>"
            ],
            "image/png": "[encoded data removed]"
          },
          "metadata": {}
        }
      ]
    },
    {
      "cell_type": "code",
      "source": [],
      "metadata": {
        "id": "sWFny_nKZQAv"
      },
      "execution_count": 114,
      "outputs": []
    },
    {
      "cell_type": "code",
      "source": [],
      "metadata": {
        "id": "fn8J_4ILafev"
      },
      "execution_count": null,
      "outputs": []
    }
  ]
}